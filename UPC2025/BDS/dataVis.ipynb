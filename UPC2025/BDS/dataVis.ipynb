{
 "cells": [
  {
   "cell_type": "raw",
   "id": "13275127-f019-483b-9778-2dd9dd8b6fc3",
   "metadata": {},
   "source": [
    "Read the papers downloaded from the Springer Open API and augmented with web scrawling the SCImago website for h-index of their journals"
   ]
  },
  {
   "cell_type": "code",
   "execution_count": 1,
   "id": "98e11230-9d73-4b84-b418-54d9aa115d24",
   "metadata": {},
   "outputs": [
    {
     "data": {
      "text/html": [
       "<div>\n",
       "<style scoped>\n",
       "    .dataframe tbody tr th:only-of-type {\n",
       "        vertical-align: middle;\n",
       "    }\n",
       "\n",
       "    .dataframe tbody tr th {\n",
       "        vertical-align: top;\n",
       "    }\n",
       "\n",
       "    .dataframe thead th {\n",
       "        text-align: right;\n",
       "    }\n",
       "</style>\n",
       "<table border=\"1\" class=\"dataframe\">\n",
       "  <thead>\n",
       "    <tr style=\"text-align: right;\">\n",
       "      <th></th>\n",
       "      <th>contentType</th>\n",
       "      <th>identifier</th>\n",
       "      <th>language</th>\n",
       "      <th>url</th>\n",
       "      <th>title</th>\n",
       "      <th>creators</th>\n",
       "      <th>publicationName</th>\n",
       "      <th>doi</th>\n",
       "      <th>publisher</th>\n",
       "      <th>publisherName</th>\n",
       "      <th>...</th>\n",
       "      <th>onlineDate</th>\n",
       "      <th>coverDate</th>\n",
       "      <th>copyright</th>\n",
       "      <th>subjects</th>\n",
       "      <th>disciplines</th>\n",
       "      <th>key_issn</th>\n",
       "      <th>h_index</th>\n",
       "      <th>abstract.h1</th>\n",
       "      <th>abstract.p</th>\n",
       "      <th>printDate</th>\n",
       "    </tr>\n",
       "  </thead>\n",
       "  <tbody>\n",
       "    <tr>\n",
       "      <th>count</th>\n",
       "      <td>25</td>\n",
       "      <td>25</td>\n",
       "      <td>25</td>\n",
       "      <td>25</td>\n",
       "      <td>25</td>\n",
       "      <td>25</td>\n",
       "      <td>25</td>\n",
       "      <td>25</td>\n",
       "      <td>25</td>\n",
       "      <td>25</td>\n",
       "      <td>...</td>\n",
       "      <td>25</td>\n",
       "      <td>24</td>\n",
       "      <td>25</td>\n",
       "      <td>25</td>\n",
       "      <td>25</td>\n",
       "      <td>25</td>\n",
       "      <td>25</td>\n",
       "      <td>25</td>\n",
       "      <td>25</td>\n",
       "      <td>8</td>\n",
       "    </tr>\n",
       "    <tr>\n",
       "      <th>unique</th>\n",
       "      <td>1</td>\n",
       "      <td>25</td>\n",
       "      <td>1</td>\n",
       "      <td>25</td>\n",
       "      <td>25</td>\n",
       "      <td>25</td>\n",
       "      <td>15</td>\n",
       "      <td>25</td>\n",
       "      <td>3</td>\n",
       "      <td>8</td>\n",
       "      <td>...</td>\n",
       "      <td>25</td>\n",
       "      <td>10</td>\n",
       "      <td>3</td>\n",
       "      <td>15</td>\n",
       "      <td>15</td>\n",
       "      <td>15</td>\n",
       "      <td>15</td>\n",
       "      <td>1</td>\n",
       "      <td>25</td>\n",
       "      <td>8</td>\n",
       "    </tr>\n",
       "    <tr>\n",
       "      <th>top</th>\n",
       "      <td>Article</td>\n",
       "      <td>doi:10.1038/s41598-025-05026-9</td>\n",
       "      <td>en</td>\n",
       "      <td>[{'format': '', 'platform': '', 'value': 'http...</td>\n",
       "      <td>The usage of a transformer based and artificia...</td>\n",
       "      <td>[{'creator': 'Zheng, Xiaofeng'}, {'creator': '...</td>\n",
       "      <td>Scientific Reports</td>\n",
       "      <td>10.1038/s41598-025-05026-9</td>\n",
       "      <td>Springer</td>\n",
       "      <td>Nature Publishing Group UK</td>\n",
       "      <td>...</td>\n",
       "      <td>2025-06-02</td>\n",
       "      <td>2025-12</td>\n",
       "      <td>©2024 The Author(s)</td>\n",
       "      <td>[Science, Humanities and Social Sciences, mult...</td>\n",
       "      <td>[{'id': '2887', 'term': 'Technology and Engine...</td>\n",
       "      <td>2045-2322</td>\n",
       "      <td>347</td>\n",
       "      <td>Abstract</td>\n",
       "      <td>The need for personalized and real-time feedba...</td>\n",
       "      <td>2025-05-28</td>\n",
       "    </tr>\n",
       "    <tr>\n",
       "      <th>freq</th>\n",
       "      <td>25</td>\n",
       "      <td>1</td>\n",
       "      <td>25</td>\n",
       "      <td>1</td>\n",
       "      <td>1</td>\n",
       "      <td>1</td>\n",
       "      <td>7</td>\n",
       "      <td>1</td>\n",
       "      <td>15</td>\n",
       "      <td>7</td>\n",
       "      <td>...</td>\n",
       "      <td>1</td>\n",
       "      <td>6</td>\n",
       "      <td>14</td>\n",
       "      <td>7</td>\n",
       "      <td>7</td>\n",
       "      <td>7</td>\n",
       "      <td>7</td>\n",
       "      <td>25</td>\n",
       "      <td>1</td>\n",
       "      <td>1</td>\n",
       "    </tr>\n",
       "  </tbody>\n",
       "</table>\n",
       "<p>4 rows × 33 columns</p>\n",
       "</div>"
      ],
      "text/plain": [
       "       contentType                      identifier language  \\\n",
       "count           25                              25       25   \n",
       "unique           1                              25        1   \n",
       "top        Article  doi:10.1038/s41598-025-05026-9       en   \n",
       "freq            25                               1       25   \n",
       "\n",
       "                                                      url  \\\n",
       "count                                                  25   \n",
       "unique                                                 25   \n",
       "top     [{'format': '', 'platform': '', 'value': 'http...   \n",
       "freq                                                    1   \n",
       "\n",
       "                                                    title  \\\n",
       "count                                                  25   \n",
       "unique                                                 25   \n",
       "top     The usage of a transformer based and artificia...   \n",
       "freq                                                    1   \n",
       "\n",
       "                                                 creators     publicationName  \\\n",
       "count                                                  25                  25   \n",
       "unique                                                 25                  15   \n",
       "top     [{'creator': 'Zheng, Xiaofeng'}, {'creator': '...  Scientific Reports   \n",
       "freq                                                    1                   7   \n",
       "\n",
       "                               doi publisher               publisherName  ...  \\\n",
       "count                           25        25                          25  ...   \n",
       "unique                          25         3                           8  ...   \n",
       "top     10.1038/s41598-025-05026-9  Springer  Nature Publishing Group UK  ...   \n",
       "freq                             1        15                           7  ...   \n",
       "\n",
       "        onlineDate coverDate            copyright  \\\n",
       "count           25        24                   25   \n",
       "unique          25        10                    3   \n",
       "top     2025-06-02   2025-12  ©2024 The Author(s)   \n",
       "freq             1         6                   14   \n",
       "\n",
       "                                                 subjects  \\\n",
       "count                                                  25   \n",
       "unique                                                 15   \n",
       "top     [Science, Humanities and Social Sciences, mult...   \n",
       "freq                                                    7   \n",
       "\n",
       "                                              disciplines   key_issn h_index  \\\n",
       "count                                                  25         25      25   \n",
       "unique                                                 15         15      15   \n",
       "top     [{'id': '2887', 'term': 'Technology and Engine...  2045-2322     347   \n",
       "freq                                                    7          7       7   \n",
       "\n",
       "       abstract.h1                                         abstract.p  \\\n",
       "count           25                                                 25   \n",
       "unique           1                                                 25   \n",
       "top       Abstract  The need for personalized and real-time feedba...   \n",
       "freq            25                                                  1   \n",
       "\n",
       "         printDate  \n",
       "count            8  \n",
       "unique           8  \n",
       "top     2025-05-28  \n",
       "freq             1  \n",
       "\n",
       "[4 rows x 33 columns]"
      ]
     },
     "execution_count": 1,
     "metadata": {},
     "output_type": "execute_result"
    }
   ],
   "source": [
    "import pandas as pd\n",
    "\n",
    "# Step 1: Read JSON\n",
    "df = pd.read_json('bulkArticlesAugmented.json')\n",
    "\n",
    "# Expand nested dictionaries into columns\n",
    "normalized_df = pd.json_normalize(df['records'])\n",
    "\n",
    "normalized_df.describe()"
   ]
  },
  {
   "cell_type": "code",
   "execution_count": 2,
   "id": "3d6133cb-c85c-4c26-81da-479046471312",
   "metadata": {},
   "outputs": [
    {
     "name": "stdout",
     "output_type": "stream",
     "text": [
      "Index(['contentType', 'identifier', 'language', 'url', 'title', 'creators',\n",
      "       'publicationName', 'doi', 'publisher', 'publisherName',\n",
      "       'publicationDate', 'publicationType', 'issn', 'eIssn', 'volume',\n",
      "       'number', 'issueType', 'topicalCollection', 'genre', 'startingPage',\n",
      "       'endingPage', 'journalId', 'openAccess', 'onlineDate', 'coverDate',\n",
      "       'copyright', 'subjects', 'disciplines', 'key_issn', 'h_index',\n",
      "       'abstract.h1', 'abstract.p', 'printDate'],\n",
      "      dtype='object')\n"
     ]
    }
   ],
   "source": [
    "print(normalized_df.columns) "
   ]
  },
  {
   "cell_type": "code",
   "execution_count": 3,
   "id": "544eca11-fc65-4134-ad43-70c76ce204b8",
   "metadata": {},
   "outputs": [
    {
     "data": {
      "text/plain": [
       "25"
      ]
     },
     "execution_count": 3,
     "metadata": {},
     "output_type": "execute_result"
    }
   ],
   "source": [
    "len(normalized_df)"
   ]
  },
  {
   "cell_type": "code",
   "execution_count": 4,
   "id": "57b5b0a6-53b2-4cc0-9eff-825315b77a37",
   "metadata": {},
   "outputs": [
    {
     "data": {
      "text/plain": [
       "count     25\n",
       "unique     1\n",
       "top       en\n",
       "freq      25\n",
       "Name: language, dtype: object"
      ]
     },
     "execution_count": 4,
     "metadata": {},
     "output_type": "execute_result"
    }
   ],
   "source": [
    "normalized_df['language'].describe()"
   ]
  },
  {
   "cell_type": "code",
   "execution_count": 5,
   "id": "bfaa124c-37e7-4f8f-ad0f-0a11b05a2041",
   "metadata": {},
   "outputs": [
    {
     "data": {
      "text/plain": [
       "count           25\n",
       "unique           3\n",
       "top       Springer\n",
       "freq            15\n",
       "Name: publisher, dtype: object"
      ]
     },
     "execution_count": 5,
     "metadata": {},
     "output_type": "execute_result"
    }
   ],
   "source": [
    "normalized_df['publisher'].describe()"
   ]
  },
  {
   "cell_type": "code",
   "execution_count": 6,
   "id": "a8521b3e-81d4-43f3-a6ba-5e077ac2c681",
   "metadata": {},
   "outputs": [
    {
     "data": {
      "text/plain": [
       "count      25.00000\n",
       "mean      568.84000\n",
       "std      1968.26958\n",
       "min        31.00000\n",
       "25%        81.00000\n",
       "50%       138.00000\n",
       "75%       347.00000\n",
       "max      9999.00000\n",
       "Name: h_index, dtype: float64"
      ]
     },
     "execution_count": 6,
     "metadata": {},
     "output_type": "execute_result"
    }
   ],
   "source": [
    "normalized_df['h_index'] = normalized_df['h_index'].astype(int) \n",
    "\n",
    "normalized_df['h_index'].describe()"
   ]
  },
  {
   "cell_type": "raw",
   "id": "a5e0930c-2c88-4468-9849-5ab3f873e94b",
   "metadata": {},
   "source": [
    "Clean the h_index column of the dataframe and keep only the papers with a journal h-index superior to the median of the sample"
   ]
  },
  {
   "cell_type": "code",
   "execution_count": 7,
   "id": "835a2fe1-0f04-42c7-a1b0-e39d6ef2f673",
   "metadata": {},
   "outputs": [
    {
     "name": "stdout",
     "output_type": "stream",
     "text": [
      "The number of rows with invalid h_index that were removed: 1\n"
     ]
    },
    {
     "data": {
      "text/plain": [
       "count     24.000000\n",
       "mean     175.916667\n",
       "std      122.438242\n",
       "min       31.000000\n",
       "25%       78.500000\n",
       "50%      138.000000\n",
       "75%      347.000000\n",
       "max      347.000000\n",
       "Name: h_index, dtype: float64"
      ]
     },
     "execution_count": 7,
     "metadata": {},
     "output_type": "execute_result"
    }
   ],
   "source": [
    "# 1. Remove rows where h_index == 9999 (invalid)\n",
    "df_clean = normalized_df[normalized_df['h_index'] != 9999].copy()\n",
    "\n",
    "print(f\"The number of rows with invalid h_index that were removed: {len(normalized_df) - len(df_clean)}\")\n",
    "\n",
    "df_clean['h_index'].describe()"
   ]
  },
  {
   "cell_type": "code",
   "execution_count": 8,
   "id": "f95a4014-2e32-4d47-b48e-6a47e4ffc12b",
   "metadata": {},
   "outputs": [
    {
     "name": "stdout",
     "output_type": "stream",
     "text": [
      "count     10.000000\n",
      "mean     300.800000\n",
      "std       78.526429\n",
      "min      146.000000\n",
      "25%      275.000000\n",
      "50%      347.000000\n",
      "75%      347.000000\n",
      "max      347.000000\n",
      "Name: h_index, dtype: float64\n"
     ]
    }
   ],
   "source": [
    "# 2. Calculate the median of the CLEANED h_index\n",
    "median_h_index = df_clean['h_index'].median()\n",
    "\n",
    "# 3. Filter for h_index > median\n",
    "df_filtered = df_clean[df_clean['h_index'] > median_h_index]\n",
    "\n",
    "print(df_filtered['h_index'].describe())"
   ]
  },
  {
   "cell_type": "raw",
   "id": "86dfa7a9-1cc2-45c0-9695-3505837dba15",
   "metadata": {},
   "source": [
    "Boxplot the h-index"
   ]
  },
  {
   "cell_type": "code",
   "execution_count": 9,
   "id": "42bb37e8-8f29-48ca-8a0e-bbed8ef21d18",
   "metadata": {},
   "outputs": [
    {
     "data": {
      "image/png": "[encoded data removed]",
      "text/plain": [
       "<Figure size 1000x800 with 1 Axes>"
      ]
     },
     "metadata": {},
     "output_type": "display_data"
    }
   ],
   "source": [
    "import matplotlib.pyplot as plt\n",
    "import seaborn as sns\n",
    "import numpy as np\n",
    "import pandas as pd\n",
    "from matplotlib.patches import Patch\n",
    "\n",
    "# Set style\n",
    "sns.set_style(\"whitegrid\")\n",
    "\n",
    "# Create figure (keeping original size)\n",
    "plt.figure(figsize=(10, 8))\n",
    "\n",
    "# Set the random seed\n",
    "np.random.seed(123)\n",
    "\n",
    "# Add jitter (horizontal random spread)\n",
    "jitter_amount = 0.075\n",
    "x_jitter = np.random.normal(0, jitter_amount, size=len(df_filtered))\n",
    "\n",
    "# Factorize journal names\n",
    "labels, unique_names = pd.factorize(df_filtered['publicationName'])\n",
    "n_journals = len(unique_names)\n",
    "\n",
    "# Create boxplot\n",
    "sns.boxplot(y=df_filtered['h_index'], \n",
    "            color='lightgray', \n",
    "            width=0.3,\n",
    "            linewidth=1,\n",
    "            showfliers=False,\n",
    "            boxprops=dict(alpha=0.5),\n",
    "            whiskerprops=dict(alpha=0.5),\n",
    "            medianprops=dict(color='red', alpha=0.8)\n",
    "           )\n",
    "\n",
    "# Create scatter plot with gist_rainbow colors\n",
    "plt.scatter(\n",
    "    x_jitter,\n",
    "    df_filtered['h_index'],\n",
    "    c=labels,\n",
    "    cmap='gist_rainbow',\n",
    "    alpha=0.6,\n",
    "    s=60,\n",
    "    edgecolor='white',\n",
    "    linewidth=0.5\n",
    ")\n",
    "\n",
    "# Add mean/median lines\n",
    "median_val = df_filtered['h_index'].median()\n",
    "plt.axhline(median_val, color='red', linestyle='--', alpha=0.5)\n",
    "\n",
    "# Customize axes\n",
    "plt.title(\"Distribution of h-index from Selected Papers' Journals\")\n",
    "plt.ylabel(\"H-index\")\n",
    "n = len(df_filtered)\n",
    "plt.xlabel(f'Paper (n = {n})')\n",
    "plt.yticks(fontsize=10)\n",
    "plt.xticks([])\n",
    "plt.xlim(-0.5, 0.5)\n",
    "\n",
    "# Add median text (adjusted to avoid legend overlap)\n",
    "plt.text(0.5, median_val+3, f'Median: {median_val:.0f}',  # Moved slightly lower\n",
    "         color='red', ha='right', fontsize=10)\n",
    "\n",
    "# Create legend for journals and place in bottom right\n",
    "legend_elements = [Patch(facecolor=plt.cm.gist_rainbow(i/(n_journals-1)), \n",
    "                         label=name,\n",
    "                         alpha=0.6)  # Match scatter plot alpha\n",
    "                  for i, name in enumerate(unique_names)]\n",
    "\n",
    "# Place legend in bottom right inside the plot\n",
    "plt.legend(handles=legend_elements,\n",
    "           title='Journals',\n",
    "           loc='lower right',\n",
    "           bbox_to_anchor=(0.95, 0.05),  # 0.95=right edge, 0.05=bottom\n",
    "           frameon=True,\n",
    "           framealpha=0.8,  # Semi-transparent background\n",
    "           edgecolor='black',\n",
    "           fontsize=9)  # Slightly smaller font\n",
    "\n",
    "#plt.tight_layout()\n",
    "plt.show()"
   ]
  },
  {
   "cell_type": "raw",
   "id": "882d69fe-7650-49b4-bfa7-b99f72cd86f7",
   "metadata": {},
   "source": [
    "Prepare the monthYear variable for the barplot"
   ]
  },
  {
   "cell_type": "code",
   "execution_count": 10,
   "id": "04339856-84c6-421f-8b46-03d1d2e004eb",
   "metadata": {},
   "outputs": [
    {
     "name": "stderr",
     "output_type": "stream",
     "text": [
      "/var/folders/wk/60w0b9p96xdczkjqp6kd3th40000gn/T/ipykernel_56957/3883982727.py:1: SettingWithCopyWarning: \n",
      "A value is trying to be set on a copy of a slice from a DataFrame.\n",
      "Try using .loc[row_indexer,col_indexer] = value instead\n",
      "\n",
      "See the caveats in the documentation: https://pandas.pydata.org/pandas-docs/stable/user_guide/indexing.html#returning-a-view-versus-a-copy\n",
      "  df_filtered['onlineDate'] = pd.to_datetime(\n"
     ]
    },
    {
     "data": {
      "text/plain": [
       "count                     10\n",
       "mean     2025-02-25 19:12:00\n",
       "min      2024-08-21 00:00:00\n",
       "25%      2025-01-07 18:00:00\n",
       "50%      2025-04-22 12:00:00\n",
       "75%      2025-04-30 06:00:00\n",
       "max      2025-06-02 00:00:00\n",
       "Name: onlineDate, dtype: object"
      ]
     },
     "execution_count": 10,
     "metadata": {},
     "output_type": "execute_result"
    }
   ],
   "source": [
    "df_filtered['onlineDate'] = pd.to_datetime(\n",
    "    df_filtered['onlineDate'], \n",
    "    errors='coerce',  # Convert invalid dates to NaT\n",
    "    format='%Y-%m-%d'  # Explicit format (adjust if needed)\n",
    ")\n",
    "\n",
    "df_filtered['onlineDate'].describe()"
   ]
  },
  {
   "cell_type": "code",
   "execution_count": 13,
   "id": "26871111-ea07-4a04-997b-c8a76abcd3f3",
   "metadata": {},
   "outputs": [
    {
     "name": "stderr",
     "output_type": "stream",
     "text": [
      "/var/folders/wk/60w0b9p96xdczkjqp6kd3th40000gn/T/ipykernel_56957/1588193846.py:1: SettingWithCopyWarning: \n",
      "A value is trying to be set on a copy of a slice from a DataFrame.\n",
      "Try using .loc[row_indexer,col_indexer] = value instead\n",
      "\n",
      "See the caveats in the documentation: https://pandas.pydata.org/pandas-docs/stable/user_guide/indexing.html#returning-a-view-versus-a-copy\n",
      "  df_filtered['monthYear'] = df_filtered['onlineDate'].dt.strftime('%b%y')\n"
     ]
    }
   ],
   "source": [
    "df_filtered['monthYear'] = df_filtered['onlineDate'].dt.strftime('%b%y')"
   ]
  },
  {
   "cell_type": "raw",
   "id": "df7e492c-d504-496b-b089-cce76a8040a4",
   "metadata": {},
   "source": [
    "Barplot the papers per monthYear"
   ]
  },
  {
   "cell_type": "code",
   "execution_count": 14,
   "id": "4a3c4d63-3d9c-45cb-9141-c109e4e19341",
   "metadata": {},
   "outputs": [
    {
     "data": {
      "image/png": "[encoded data removed]",
      "text/plain": [
       "<Figure size 1200x600 with 1 Axes>"
      ]
     },
     "metadata": {},
     "output_type": "display_data"
    }
   ],
   "source": [
    "import matplotlib.pyplot as plt\n",
    "import seaborn as sns\n",
    "\n",
    "# 1. Ensure chronological order by sorting the DataFrame\n",
    "df_sorted = df_filtered.sort_values('onlineDate')\n",
    "\n",
    "# 2. Create the bar plot\n",
    "plt.figure(figsize=(12, 6))\n",
    "ax = sns.countplot(\n",
    "    data=df_sorted,\n",
    "    x='monthYear',\n",
    "    order=df_sorted['monthYear'].unique(),  # Force chronological order\n",
    "    #palette='viridis'  # Change color scheme if needed\n",
    ")\n",
    "\n",
    "# 3. Force y-ticks to increment by 1\n",
    "max_count = df_sorted['monthYear'].value_counts().max()\n",
    "plt.yticks(np.arange(0, max_count + 1, 1))  # 👈 Critical line\n",
    "\n",
    "# 3. Customize the plot\n",
    "plt.title('Distribution of Selected Papers Monthly', fontsize=14, pad=20)\n",
    "plt.xlabel('Paper per Month-Year', fontsize=12)\n",
    "plt.ylabel('Count', fontsize=12)\n",
    "#plt.xticks(rotation=45, ha='right')  # Rotate labels for readability\n",
    "\n",
    "# 4. Add value labels on top of bars\n",
    "for p in ax.patches:\n",
    "    ax.annotate(\n",
    "        f'{p.get_height():.0f}',\n",
    "        (p.get_x() + p.get_width() / 2., p.get_height()),\n",
    "        ha='center', va='center',\n",
    "        xytext=(0, 5),\n",
    "        textcoords='offset points'\n",
    "    )\n",
    "\n",
    "# 5. Adjust layout and display\n",
    "plt.tight_layout()\n",
    "plt.show()"
   ]
  },
  {
   "cell_type": "code",
   "execution_count": 15,
   "id": "0d5e7f72-db38-4cfb-a285-1110c6353e54",
   "metadata": {},
   "outputs": [
    {
     "name": "stdout",
     "output_type": "stream",
     "text": [
      "0     The usage of a transformer based and artificial intelligence driven multidimensional feedback system in english writing instruction\n",
      "2                    Transformers to the rescue: alleviating data scarcity in arabic grammatical error correction with pre-trained models\n",
      "3                   Emotion-Aware RoBERTa enhanced with emotion-specific attention and TF-IDF gating for fine-grained emotion recognition\n",
      "5                         Cross language transformation of free text into structured lobectomy surgical records from a multi center study\n",
      "6                                                                       An LLM-based hybrid approach for enhanced automated essay scoring\n",
      "7                                                                                        Industrial applications of large language models\n",
      "10                                  Impact of hospital-specific domain adaptation on BERT-based models to classify neuroradiology reports\n",
      "15                                                      GPT-4 shows potential for identifying social anxiety from clinical interview data\n",
      "19                                      Novel concept-based image captioning models using LSTM and multi-encoder transformer architecture\n",
      "23                                                  VAIV bio-discovery service using transformer model and retrieval augmented generation\n",
      "Name: title, dtype: object\n",
      "0     10.1038/s41598-025-05026-9\n",
      "2     10.1007/s00521-025-11145-1\n",
      "3     10.1038/s41598-025-99515-6\n",
      "5     10.1038/s41598-025-97500-7\n",
      "6     10.1038/s41598-025-87862-3\n",
      "7     10.1038/s41598-025-98483-1\n",
      "10    10.1007/s00330-025-11500-9\n",
      "15    10.1038/s41598-024-82192-2\n",
      "19    10.1038/s41598-024-69664-1\n",
      "23    10.1186/s12859-024-05903-6\n",
      "Name: doi, dtype: object\n"
     ]
    }
   ],
   "source": [
    "with pd.option_context('display.max_colwidth', None):  # None means no limit\n",
    "    print(df_filtered['title'])\n",
    "    print(df_filtered['doi'])"
   ]
  },
  {
   "cell_type": "code",
   "execution_count": 16,
   "id": "706bc679-62f0-4925-a8ba-54e7546e2a39",
   "metadata": {},
   "outputs": [
    {
     "name": "stdout",
     "output_type": "stream",
     "text": [
      "    h_index monthYear                    publicationName   key_issn\n",
      "0       347     Jun25                 Scientific Reports  2045-2322\n",
      "2       146     Apr25  Neural Computing and Applications  0941-0643\n",
      "3       347     May25                 Scientific Reports  2045-2322\n",
      "5       347     May25                 Scientific Reports  2045-2322\n",
      "6       347     Apr25                 Scientific Reports  2045-2322\n",
      "7       347     Apr25                 Scientific Reports  2045-2322\n",
      "10      182     Mar25                 European Radiology  1432-1084\n",
      "15      347     Dec24                 Scientific Reports  2045-2322\n",
      "19      347     Sep24                 Scientific Reports  2045-2322\n",
      "23      251     Aug24                 BMC Bioinformatics  1471-2105\n"
     ]
    }
   ],
   "source": [
    "print(df_filtered[['h_index', 'monthYear', 'publicationName', 'key_issn']])"
   ]
  },
  {
   "cell_type": "code",
   "execution_count": 18,
   "id": "d957bb50-a1d0-4d6a-bc42-d192aa2535f3",
   "metadata": {},
   "outputs": [],
   "source": [
    "# store the selected papers for further use\n",
    "df_filtered.to_csv('selectedPapers.csv', index=False)"
   ]
  }
 ],
 "metadata": {
  "kernelspec": {
   "display_name": "Python 3 (ipykernel)",
   "language": "python",
   "name": "python3"
  },
  "language_info": {
   "codemirror_mode": {
    "name": "ipython",
    "version": 3
   },
   "file_extension": ".py",
   "mimetype": "text/x-python",
   "name": "python",
   "nbconvert_exporter": "python",
   "pygments_lexer": "ipython3",
   "version": "3.12.9"
  }
 },
 "nbformat": 4,
 "nbformat_minor": 5
}
